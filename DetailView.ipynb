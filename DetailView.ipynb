{
 "cells": [
  {
   "cell_type": "markdown",
   "metadata": {},
   "source": [
    "# DetailView"
   ]
  },
  {
   "cell_type": "code",
   "execution_count": 6,
   "metadata": {
    "collapsed": false
   },
   "outputs": [
    {
     "data": {
      "image/jpeg": "[encoded data removed]",
      "text/html": [
       "\n",
       "        <iframe\n",
       "            width=\"800\"\n",
       "            height=\"500\"\n",
       "            src=\"https://www.youtube.com/embed/EvbcUxA6Xi0\"\n",
       "            frameborder=\"0\"\n",
       "            allowfullscreen\n",
       "        ></iframe>\n",
       "        "
      ],
      "text/plain": [
       "<IPython.lib.display.YouTubeVideo at 0x4e36a58>"
      ]
     },
     "execution_count": 6,
     "metadata": {},
     "output_type": "execute_result"
    }
   ],
   "source": [
    "from IPython.display import YouTubeVideo\n",
    "YouTubeVideo('EvbcUxA6Xi0',width=800, height=500)"
   ]
  },
  {
   "cell_type": "markdown",
   "metadata": {},
   "source": [
    "[full django DetailView source](https://gist.github.com/guinslym/401237dad052a794e979921cbd248019)\n",
    "\n",
    "\n",
    "```python\n",
    "# detail.py from django\n",
    "class DetailView(SingleObjectTemplateResponseMixin, BaseDetailView):\n",
    "    \"\"\"\n",
    "    Render a \"detail\" view of an object.\n",
    "\n",
    "    By default this is a model instance looked up from `self.queryset`, but the\n",
    "    view will support display of *any* object by overriding `self.get_object()`.\n",
    "    \"\"\"\n",
    "        \n",
    "```"
   ]
  },
  {
   "cell_type": "markdown",
   "metadata": {},
   "source": [
    "<hr style=\"border:1px solid black\"/>"
   ]
  },
  {
   "cell_type": "markdown",
   "metadata": {},
   "source": [
    "### Example"
   ]
  },
  {
   "cell_type": "markdown",
   "metadata": {},
   "source": [
    "[source](https://github.com/smalnote/smalnote/blob/4b93d04c79fdb910a016747a09934e0f900377ae/wke/views.py#L19)\n",
    "\n",
    "```python\n",
    "from django.views.generic import DetailView\n",
    "\n",
    "class ItfFedView(DetailView):\n",
    "    model = ItfDef\n",
    "    template_name = 'wke/itffed.html'\n",
    "```   "
   ]
  },
  {
   "cell_type": "markdown",
   "metadata": {},
   "source": [
    "[source](https://github.com/importchen/codeflitting/blob/69d3d1ff5d42577bd832a4bb62ccf82508a9711d/blog/views.py#L31)\n",
    "\n",
    "```python\n",
    "from django.views.generic import DetailView\n",
    "\n",
    "class ArticleDetailView(DetailView):\n",
    "    model = Article\n",
    "    template_name = \"blog/detail.html\"\n",
    "    context_object_name = \"article\"\n",
    "    pk_url_kwarg = 'title'\n",
    "    \n",
    "    # if I want I can add a queryset so that the DetailView will look only into the\n",
    "    # result of my queryset in order to find the Article that I need\n",
    "    # queryset = Article.objects.all()\n",
    "\n",
    "    def get_object(self, queryset=None):\n",
    "        article = super(ArticleDetailView, self).get_object()\n",
    "        # article.body = markdown2.markdown(article.body, extras=['fenced-code-blocks',\n",
    "        #                                                        'table'],)\n",
    "        article.title = article.title.replace('-', ' ')\n",
    "        return article\n",
    "\n",
    "    def get_context_data(self, **kwargs):\n",
    "        kwargs['tag_list'] = Tag.objects.all().order_by('name')\n",
    "        kwargs['recent'] = Article.objects.all().order_by('last_modified_time')[:6]\n",
    "        return super(ArticleDetailView, self).get_context_data(**kwargs)\n",
    "```"
   ]
  },
  {
   "cell_type": "markdown",
   "metadata": {},
   "source": [
    "[source](https://github.com/KartikShrikantHegde/Django_Ecommerce/blob/bd6f5cebe8fc84864c6002fbcad46885715ab0c6/src/products/views.py#L87)\n",
    "\n",
    "```python\n",
    "from django.views.generic import DetailView\n",
    "\n",
    "class ProductDetailView(DetailView):\n",
    "    model = Product\n",
    "```   "
   ]
  },
  {
   "cell_type": "markdown",
   "metadata": {},
   "source": [
    "[source](https://github.com/alfegupe/IssueReporter/blob/5b205ed069e9517d6eb6d5789d3ca62395b72fac/bugtracker/views.py#L60)\n",
    "\n",
    "```python\n",
    "from django.views.generic import DetailView\n",
    "from django.contrib.auth.mixins import LoginRequiredMixin\n",
    "\n",
    "class ProfileView(LoginRequiredMixin, DetailView):\n",
    "    model = User\n",
    "    template_name = 'user/profile.html'\n",
    "    slug_field = 'username'\n",
    "    slug_url_kwarg = 'u_name'\n",
    "        \n",
    "```"
   ]
  },
  {
   "cell_type": "markdown",
   "metadata": {},
   "source": [
    "[source](https://github.com/VuXuanBach/LearnPython/blob/e4e30d122aca75f39b3a50e262063391494fe778/myproject/polls/views.py#L26)\n",
    "\n",
    "```python\n",
    "from django.views import generic\n",
    "\n",
    "class ResultsView(generic.DetailView):\n",
    "    model = Question\n",
    "    template_name = 'polls/results.html'\n",
    "\n",
    "    def get_queryset(self):\n",
    "        return Question.objects.filter(pub_date__lte=timezone.now())\n",
    "```   "
   ]
  },
  {
   "cell_type": "markdown",
   "metadata": {},
   "source": [
    "[source](https://github.com/LCOGT/valhalla/blob/c9abea8200e389dbabd3ff31e4ef17e1ae02bd74/valhalla/sciapplications/views.py#L128)\n",
    "\n",
    "```python\n",
    "from django.views.generic.detail import DetailView\n",
    "from django.contrib.auth.mixins import LoginRequiredMixin\n",
    "\n",
    "class SciApplicationDetailView(LoginRequiredMixin, DetailView):\n",
    "    model = ScienceApplication\n",
    "    \n",
    "    # should calll super within the Method\n",
    "    def get_queryset(self):\n",
    "        return ScienceApplication.objects.filter(submitter=self.request.user)\n",
    "```"
   ]
  }
 ],
 "metadata": {
  "anaconda-cloud": {},
  "kernelspec": {
   "display_name": "Python [default]",
   "language": "python",
   "name": "python3"
  },
  "language_info": {
   "codemirror_mode": {
    "name": "ipython",
    "version": 3
   },
   "file_extension": ".py",
   "mimetype": "text/x-python",
   "name": "python",
   "nbconvert_exporter": "python",
   "pygments_lexer": "ipython3",
   "version": "3.5.2"
  }
 },
 "nbformat": 4,
 "nbformat_minor": 1
}
