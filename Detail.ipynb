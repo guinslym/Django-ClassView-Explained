{
 "cells": [
  {
   "cell_type": "markdown",
   "metadata": {},
   "source": [
    "# DetailView"
   ]
  },
  {
   "cell_type": "markdown",
   "metadata": {},
   "source": [
    "```python\n",
    "\n",
    "class DetailView(SingleObjectTemplateResponseMixin, BaseDetailView):\n",
    "    \"\"\"\n",
    "    Render a \"detail\" view of an object.\n",
    "\n",
    "    By default this is a model instance looked up from `self.queryset`, but the\n",
    "    view will support display of *any* object by overriding `self.get_object()`.\n",
    "    \"\"\"\n",
    "        \n",
    "```"
   ]
  },
  {
   "cell_type": "markdown",
   "metadata": {},
   "source": [
    "### Example"
   ]
  },
  {
   "cell_type": "markdown",
   "metadata": {},
   "source": [
    "[source](https://github.com/alfegupe/IssueReporter/blob/5b205ed069e9517d6eb6d5789d3ca62395b72fac/bugtracker/views.py#L60)\n",
    "\n",
    "```python\n",
    "from django.views.generic import DetailView\n",
    "from django.contrib.auth.mixins import LoginRequiredMixin\n",
    "\n",
    "class ProfileView(LoginRequiredMixin, DetailView):\n",
    "    model = User\n",
    "    template_name = 'user/profile.html'\n",
    "    slug_field = 'username'\n",
    "    slug_url_kwarg = 'u_name'\n",
    "        \n",
    "```"
   ]
  }
 ],
 "metadata": {
  "kernelspec": {
   "display_name": "Python [default]",
   "language": "python",
   "name": "python3"
  },
  "language_info": {
   "codemirror_mode": {
    "name": "ipython",
    "version": 3
   },
   "file_extension": ".py",
   "mimetype": "text/x-python",
   "name": "python",
   "nbconvert_exporter": "python",
   "pygments_lexer": "ipython3",
   "version": "3.5.2"
  }
 },
 "nbformat": 4,
 "nbformat_minor": 1
}
