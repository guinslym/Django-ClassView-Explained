{
 "cells": [
  {
   "cell_type": "markdown",
   "metadata": {},
   "source": [
    "# Base"
   ]
  },
  {
   "cell_type": "code",
   "execution_count": 8,
   "metadata": {
    "collapsed": true
   },
   "outputs": [],
   "source": [
    "from django.views.generic.base import View, TemplateView, RedirectView "
   ]
  },
  {
   "cell_type": "markdown",
   "metadata": {},
   "source": [
    "<hr style=\"border:1px solid black\"/>"
   ]
  },
  {
   "cell_type": "markdown",
   "metadata": {},
   "source": [
    "## TemplateView"
   ]
  },
  {
   "cell_type": "markdown",
   "metadata": {},
   "source": [
    "explanation"
   ]
  },
  {
   "cell_type": "markdown",
   "metadata": {},
   "source": [
    "#original script form django 1.10.x\n",
    "\n",
    "```python\n",
    "class TemplateView(TemplateResponseMixin, ContextMixin, View):\n",
    "    \"\"\"\n",
    "    A view that renders a template.  This view will also pass into the context\n",
    "    any keyword arguments passed by the URLconf.\n",
    "    \"\"\"\n",
    "    def get(self, request, *args, **kwargs):\n",
    "        context = self.get_context_data(**kwargs)\n",
    "        return self.render_to_response(context)\n",
    "```"
   ]
  },
  {
   "cell_type": "markdown",
   "metadata": {},
   "source": [
    "### Example"
   ]
  },
  {
   "cell_type": "markdown",
   "metadata": {},
   "source": [
    "<hr style=\"border:1px solid black\"/>"
   ]
  },
  {
   "cell_type": "markdown",
   "metadata": {},
   "source": [
    "[source](https://github.com/setivolkylany/programmerHelper/blob/b37a28214a91a5d74043aae58339eea27c245200/apps/admin/views.py#L480)\n",
    "```python\n",
    "\n",
    "class AppIndexView(SiteAppAdminMixin, generic.TemplateView):\n",
    "\n",
    "    template_name = 'admin/admin/app_index.html'\n",
    "\n",
    "    def get_context_data(self, **kwargs):\n",
    "\n",
    "        context = super().get_context_data(**kwargs)\n",
    "\n",
    "        context['title'] = self.app_config.verbose_name\n",
    "        context['app_name'] = self.app_config.verbose_name\n",
    "        context['app_models_info'] = self.get_app_models_info()\n",
    "        context['reports_url'] = self.site_admin.get_url('reports', self.app_config.label)\n",
    "        context['statistics_url'] = self.site_admin.get_url('statistics', self.app_config.label)\n",
    "\n",
    "        return context\n",
    "\n",
    "    def get_app_models_info(self):\n",
    "\n",
    "        info = list()\n",
    "        for model in self.app_config.get_models():\n",
    "\n",
    "            if self.site_admin.is_registered_model(model):\n",
    "                info.append((\n",
    "                    force_text(model._meta.verbose_name),\n",
    "                    self.site_admin.get_url('changelist', model._meta),\n",
    "                    model._default_manager.count(),\n",
    "                ))\n",
    "\n",
    "        info.sort(key=lambda x: x[0].lower())\n",
    "\n",
    "        return info\n",
    "        \n",
    "```"
   ]
  },
  {
   "cell_type": "markdown",
   "metadata": {},
   "source": [
    "[source](https://github.com/setivolkylany/programmerHelper/blob/b37a28214a91a5d74043aae58339eea27c245200/apps/admin/views.py#L72)\n",
    "\n",
    "```python\n",
    "class PasswordChangeView(generic.TemplateView):\n",
    "\n",
    "    template_name = 'admin/admin/password_change.html'\n",
    "\n",
    "    def get_context_data(self, **kwargs):\n",
    "        context = super().get_context_data(**kwargs)\n",
    "\n",
    "        context.update(self.site_admin.each_context(self.request))\n",
    "\n",
    "        context['title'] = _('Password change')\n",
    "\n",
    "        return context\n",
    "        \n",
    "```"
   ]
  },
  {
   "cell_type": "markdown",
   "metadata": {},
   "source": [
    "<hr style=\"border:1px solid black\"/>"
   ]
  },
  {
   "cell_type": "markdown",
   "metadata": {},
   "source": [
    "## RedirectView"
   ]
  },
  {
   "cell_type": "markdown",
   "metadata": {},
   "source": [
    "```python\n",
    "\n",
    "# from Django\n",
    "class RedirectView(View):\n",
    "    \"\"\"\n",
    "    A view that provides a redirect on any GET request.\n",
    "    \"\"\"\n",
    "    permanent = False\n",
    "    url = None\n",
    "    pattern_name = None\n",
    "    query_string = False\n",
    "\n",
    "    def get_redirect_url(self, *args, **kwargs):\n",
    "        \"\"\"\n",
    "        Return the URL redirect to. Keyword arguments from the\n",
    "        URL pattern match generating the redirect request\n",
    "        are provided as kwargs to this method.\n",
    "        \"\"\"\n",
    "        if self.url:\n",
    "            url = self.url % kwargs\n",
    "        elif self.pattern_name:\n",
    "            try:\n",
    "                url = reverse(self.pattern_name, args=args, kwargs=kwargs)\n",
    "            except NoReverseMatch:\n",
    "                return None\n",
    "        else:\n",
    "            return None\n",
    "\n",
    "        args = self.request.META.get('QUERY_STRING', '')\n",
    "        if args and self.query_string:\n",
    "            url = \"%s?%s\" % (url, args)\n",
    "        return url\n",
    "\n",
    "    def get(self, request, *args, **kwargs):\n",
    "        url = self.get_redirect_url(*args, **kwargs)\n",
    "        if url:\n",
    "            if self.permanent:\n",
    "                return http.HttpResponsePermanentRedirect(url)\n",
    "            else:\n",
    "                return http.HttpResponseRedirect(url)\n",
    "        else:\n",
    "            logger.warning(\n",
    "                'Gone: %s', request.path,\n",
    "                extra={'status_code': 410, 'request': request}\n",
    "            )\n",
    "            return http.HttpResponseGone()\n",
    "\n",
    "    def head(self, request, *args, **kwargs):\n",
    "        return self.get(request, *args, **kwargs)\n",
    "\n",
    "    def post(self, request, *args, **kwargs):\n",
    "        return self.get(request, *args, **kwargs)\n",
    "\n",
    "    def options(self, request, *args, **kwargs):\n",
    "        return self.get(request, *args, **kwargs)\n",
    "\n",
    "    def delete(self, request, *args, **kwargs):\n",
    "        return self.get(request, *args, **kwargs)\n",
    "\n",
    "    def put(self, request, *args, **kwargs):\n",
    "        return self.get(request, *args, **kwargs)\n",
    "\n",
    "    def patch(self, request, *args, **kwargs):\n",
    "        return self.get(request, *args, **kwargs)\n",
    "        \n",
    "```"
   ]
  },
  {
   "cell_type": "markdown",
   "metadata": {},
   "source": [
    "[source](https://github.com/alfegupe/IssueReporter/blob/5b205ed069e9517d6eb6d5789d3ca62395b72fac/bugtracker/views.py#L52)\n",
    "\n",
    "\n",
    "```python\n",
    "from django.views.generic import RedirectView\n",
    "from django.contrib.auth import logout\n",
    "\n",
    "class LogoutView(RedirectView):\n",
    "    pattern_name = 'login'\n",
    "\n",
    "    def get(self, request, *args, **kwargs):\n",
    "        logout(request)\n",
    "        return super(LogoutView, self).get(request, *args, **kwargs)\n",
    "        \n",
    "```"
   ]
  }
 ],
 "metadata": {
  "anaconda-cloud": {},
  "kernelspec": {
   "display_name": "Python [default]",
   "language": "python",
   "name": "python3"
  },
  "language_info": {
   "codemirror_mode": {
    "name": "ipython",
    "version": 3
   },
   "file_extension": ".py",
   "mimetype": "text/x-python",
   "name": "python",
   "nbconvert_exporter": "python",
   "pygments_lexer": "ipython3",
   "version": "3.5.2"
  }
 },
 "nbformat": 4,
 "nbformat_minor": 1
}
