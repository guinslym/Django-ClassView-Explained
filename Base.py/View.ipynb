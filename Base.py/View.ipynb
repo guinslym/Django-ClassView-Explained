{
 "cells": [
  {
   "cell_type": "markdown",
   "metadata": {},
   "source": [
    "## View"
   ]
  },
  {
   "cell_type": "markdown",
   "metadata": {},
   "source": [
    "[full django Base.py script](https://gist.github.com/guinslym/6b1ff53ca3d55a842ae99d04133c211f)"
   ]
  },
  {
   "cell_type": "markdown",
   "metadata": {},
   "source": [
    "### Example"
   ]
  },
  {
   "cell_type": "code",
   "execution_count": null,
   "metadata": {
    "collapsed": true
   },
   "outputs": [],
   "source": [
    "[source](https://github.com/alfegupe/IssueReporter/blob/5b205ed069e9517d6eb6d5789d3ca62395b72fac/bugtracker/views.py#L52)\n",
    "\n",
    "\n",
    "```python\n",
    "from django.db.models import Count\n",
    "from django.shortcuts import render\n",
    "from django.views.generic import View\n",
    "from .models import Book, Author\n",
    "\n",
    "class AuthorList(View):\n",
    "    def get(self, request):\n",
    "\n",
    "        authors = Author.objects.annotate(\n",
    "            published_books=Count('books')\n",
    "        ).filter(\n",
    "            published_books__gt=0\n",
    "        )\n",
    "\n",
    "        context = {\n",
    "            'authors': authors,\n",
    "        }\n",
    "        return render(request, \"authors.html\", context)\n",
    "        \n",
    "```"
   ]
  }
 ],
 "metadata": {
  "kernelspec": {
   "display_name": "Python [default]",
   "language": "python",
   "name": "python3"
  },
  "language_info": {
   "codemirror_mode": {
    "name": "ipython",
    "version": 3
   },
   "file_extension": ".py",
   "mimetype": "text/x-python",
   "name": "python",
   "nbconvert_exporter": "python",
   "pygments_lexer": "ipython3",
   "version": "3.5.2"
  }
 },
 "nbformat": 4,
 "nbformat_minor": 1
}
