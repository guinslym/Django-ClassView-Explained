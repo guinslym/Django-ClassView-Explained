{
 "cells": [
  {
   "cell_type": "markdown",
   "metadata": {},
   "source": [
    "## RedirectView"
   ]
  },
  {
   "cell_type": "markdown",
   "metadata": {},
   "source": [
    "```python\n",
    "\n",
    "# from Django\n",
    "class RedirectView(View):\n",
    "    \"\"\"\n",
    "    A view that provides a redirect on any GET request.\n",
    "    \"\"\"\n",
    "    permanent = False\n",
    "    url = None\n",
    "    pattern_name = None\n",
    "    query_string = False\n",
    "\n",
    "    def get_redirect_url(self, *args, **kwargs):\n",
    "        \"\"\"\n",
    "        Return the URL redirect to. Keyword arguments from the\n",
    "        URL pattern match generating the redirect request\n",
    "        are provided as kwargs to this method.\n",
    "        \"\"\"\n",
    "        if self.url:\n",
    "            url = self.url % kwargs\n",
    "        elif self.pattern_name:\n",
    "            try:\n",
    "                url = reverse(self.pattern_name, args=args, kwargs=kwargs)\n",
    "            except NoReverseMatch:\n",
    "                return None\n",
    "        else:\n",
    "            return None\n",
    "\n",
    "        args = self.request.META.get('QUERY_STRING', '')\n",
    "        if args and self.query_string:\n",
    "            url = \"%s?%s\" % (url, args)\n",
    "        return url\n",
    "\n",
    "    def get(self, request, *args, **kwargs):\n",
    "        url = self.get_redirect_url(*args, **kwargs)\n",
    "        if url:\n",
    "            if self.permanent:\n",
    "                return http.HttpResponsePermanentRedirect(url)\n",
    "            else:\n",
    "                return http.HttpResponseRedirect(url)\n",
    "        else:\n",
    "            logger.warning(\n",
    "                'Gone: %s', request.path,\n",
    "                extra={'status_code': 410, 'request': request}\n",
    "            )\n",
    "            return http.HttpResponseGone()\n",
    "\n",
    "    def head(self, request, *args, **kwargs):\n",
    "        return self.get(request, *args, **kwargs)\n",
    "\n",
    "    def post(self, request, *args, **kwargs):\n",
    "        return self.get(request, *args, **kwargs)\n",
    "\n",
    "    def options(self, request, *args, **kwargs):\n",
    "        return self.get(request, *args, **kwargs)\n",
    "\n",
    "    def delete(self, request, *args, **kwargs):\n",
    "        return self.get(request, *args, **kwargs)\n",
    "\n",
    "    def put(self, request, *args, **kwargs):\n",
    "        return self.get(request, *args, **kwargs)\n",
    "\n",
    "    def patch(self, request, *args, **kwargs):\n",
    "        return self.get(request, *args, **kwargs)\n",
    "        \n",
    "```"
   ]
  },
  {
   "cell_type": "markdown",
   "metadata": {},
   "source": [
    "### Example"
   ]
  },
  {
   "cell_type": "markdown",
   "metadata": {},
   "source": [
    "<hr style=\"border:1px solid black\"/>"
   ]
  },
  {
   "cell_type": "markdown",
   "metadata": {},
   "source": [
    "[source](https://github.com/alfegupe/IssueReporter/blob/5b205ed069e9517d6eb6d5789d3ca62395b72fac/bugtracker/views.py#L52)\n",
    "\n",
    "\n",
    "```python\n",
    "from django.views.generic import RedirectView\n",
    "from django.contrib.auth import logout\n",
    "\n",
    "class LogoutView(RedirectView):\n",
    "    pattern_name = 'login'\n",
    "\n",
    "    def get(self, request, *args, **kwargs):\n",
    "        logout(request)\n",
    "        return super(LogoutView, self).get(request, *args, **kwargs)\n",
    "        \n",
    "```"
   ]
  }
 ],
 "metadata": {
  "anaconda-cloud": {},
  "kernelspec": {
   "display_name": "Python [default]",
   "language": "python",
   "name": "python3"
  },
  "language_info": {
   "codemirror_mode": {
    "name": "ipython",
    "version": 3
   },
   "file_extension": ".py",
   "mimetype": "text/x-python",
   "name": "python",
   "nbconvert_exporter": "python",
   "pygments_lexer": "ipython3",
   "version": "3.5.2"
  }
 },
 "nbformat": 4,
 "nbformat_minor": 1
}
