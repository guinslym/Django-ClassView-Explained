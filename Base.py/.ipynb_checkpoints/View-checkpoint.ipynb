{
 "cells": [
  {
   "cell_type": "markdown",
   "metadata": {},
   "source": [
    "## View"
   ]
  },
  {
   "cell_type": "code",
   "execution_count": 3,
   "metadata": {
    "collapsed": false
   },
   "outputs": [
    {
     "data": {
      "image/jpeg": "[encoded data removed]",
      "text/html": [
       "\n",
       "        <iframe\n",
       "            width=\"600\"\n",
       "            height=\"400\"\n",
       "            src=\"https://www.youtube.com/embed/04z8TXH-t2c\"\n",
       "            frameborder=\"0\"\n",
       "            allowfullscreen\n",
       "        ></iframe>\n",
       "        "
      ],
      "text/plain": [
       "<IPython.lib.display.YouTubeVideo at 0x4e1a550>"
      ]
     },
     "execution_count": 3,
     "metadata": {},
     "output_type": "execute_result"
    }
   ],
   "source": [
    "from IPython.display import YouTubeVideo\n",
    "YouTubeVideo('04z8TXH-t2c',width=600, height=400)"
   ]
  },
  {
   "cell_type": "markdown",
   "metadata": {},
   "source": [
    "[full django Base.py script](https://gist.github.com/guinslym/6b1ff53ca3d55a842ae99d04133c211f)"
   ]
  },
  {
   "cell_type": "markdown",
   "metadata": {},
   "source": [
    "### Example"
   ]
  },
  {
   "cell_type": "markdown",
   "metadata": {},
   "source": [
    "```python\n",
    "class RegionUpdate(UpdateView):\n",
    "    http_method_names = ['post']\n",
    "    model = Region\n",
    "    form_class = RegionForm\n",
    "    fields = ['name', 'geographies', 'description', 'privacy']\n",
    "```"
   ]
  },
  {
   "cell_type": "markdown",
   "metadata": {},
   "source": [
    "[source](https://github.com/PresenceHealth/HealthViz/blob/9c9ad0a3ed921338585cb6f9c2048e966e4df701/geo/views.py#L266)\n",
    "#### Using Dispatch\n",
    " to check if a user is logged in. But it's better to use Django-braces. 7:30min\n",
    "```python\n",
    "class RegionUpdate(UpdateView):\n",
    "    model = Region\n",
    "    fields = ['name', 'geographies', 'description', 'privacy']\n",
    "    \n",
    "    @method_decorator(login_required)\n",
    "    def dispatch(self, *args, **kwargs):\n",
    "        object = super(RegionUpdate, self).get_object()\n",
    "        if object.added_by != self.request.user:\n",
    "            raise Http404('You do not have permission to edit this region.')\n",
    "        return super(RegionUpdate, self).dispatch(*args, **kwargs)\n",
    "```"
   ]
  },
  {
   "cell_type": "markdown",
   "metadata": {},
   "source": [
    "[source](https://github.com/suchov/into_to_dj/blob/5e27a8cc404604ae20a76d1451d2c3098617a4a5/readit/books/views.py)\n",
    "\n",
    "\n",
    "#### Redifine an http_method_names\n",
    "```python\n",
    "from django.db.models import Count\n",
    "from django.shortcuts import render\n",
    "from django.views.generic import View\n",
    "from .models import Book, Author\n",
    "\n",
    "\n",
    "class AuthorList(View):\n",
    "    def get(self, request):\n",
    "\n",
    "        authors = Author.objects.annotate(\n",
    "            published_books=Count('books')\n",
    "        ).filter(\n",
    "            published_books__gt=0\n",
    "        )\n",
    "\n",
    "        context = {\n",
    "            'authors': authors,\n",
    "        }\n",
    "        return render(request, \"authors.html\", context)\n",
    "        \n",
    "```"
   ]
  }
 ],
 "metadata": {
  "anaconda-cloud": {},
  "kernelspec": {
   "display_name": "Python [default]",
   "language": "python",
   "name": "python3"
  },
  "language_info": {
   "codemirror_mode": {
    "name": "ipython",
    "version": 3
   },
   "file_extension": ".py",
   "mimetype": "text/x-python",
   "name": "python",
   "nbconvert_exporter": "python",
   "pygments_lexer": "ipython3",
   "version": "3.5.2"
  }
 },
 "nbformat": 4,
 "nbformat_minor": 1
}
