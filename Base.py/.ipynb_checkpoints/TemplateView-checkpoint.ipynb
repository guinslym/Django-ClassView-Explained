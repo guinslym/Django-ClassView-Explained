{
 "cells": [
  {
   "cell_type": "markdown",
   "metadata": {},
   "source": [
    "## TemplateView"
   ]
  },
  {
   "cell_type": "code",
   "execution_count": 2,
   "metadata": {
    "collapsed": false
   },
   "outputs": [
    {
     "data": {
      "image/jpeg": "[encoded data removed]",
      "text/html": [
       "\n",
       "        <iframe\n",
       "            width=\"600\"\n",
       "            height=\"400\"\n",
       "            src=\"https://www.youtube.com/embed/nC7Ao0I6_wE\"\n",
       "            frameborder=\"0\"\n",
       "            allowfullscreen\n",
       "        ></iframe>\n",
       "        "
      ],
      "text/plain": [
       "<IPython.lib.display.YouTubeVideo at 0x4ba25c0>"
      ]
     },
     "execution_count": 2,
     "metadata": {},
     "output_type": "execute_result"
    }
   ],
   "source": [
    "from IPython.display import YouTubeVideo\n",
    "YouTubeVideo('nC7Ao0I6_wE',width=600, height=400)"
   ]
  },
  {
   "cell_type": "markdown",
   "metadata": {},
   "source": [
    "[full django Base.py script](https://gist.github.com/guinslym/6b1ff53ca3d55a842ae99d04133c211f)"
   ]
  },
  {
   "cell_type": "markdown",
   "metadata": {},
   "source": [
    "**explanation**"
   ]
  },
  {
   "cell_type": "markdown",
   "metadata": {},
   "source": [
    "\n",
    "\n",
    "```python\n",
    "class TemplateView(TemplateResponseMixin, ContextMixin, View):\n",
    "    \"\"\"\n",
    "    A view that renders a template.  This view will also pass into the context\n",
    "    any keyword arguments passed by the URLconf.\n",
    "    \"\"\"\n",
    "    def get(self, request, *args, **kwargs):\n",
    "        context = self.get_context_data(**kwargs)\n",
    "        return self.render_to_response(context)\n",
    "```"
   ]
  },
  {
   "cell_type": "markdown",
   "metadata": {},
   "source": [
    "### Example"
   ]
  },
  {
   "cell_type": "markdown",
   "metadata": {},
   "source": [
    "<hr style=\"border:1px solid black\"/>"
   ]
  },
  {
   "cell_type": "code",
   "execution_count": null,
   "metadata": {
    "collapsed": true
   },
   "outputs": [],
   "source": [
    "\n",
    "```python\n",
    "\n",
    "class ExportBadgesView(TemplateView):\n",
    "    template_name = \"account/hello.html\"\n",
    "        \n",
    "```"
   ]
  },
  {
   "cell_type": "markdown",
   "metadata": {},
   "source": [
    "[source](https://github.com/setivolkylany/programmerHelper/blob/b37a28214a91a5d74043aae58339eea27c245200/apps/admin/views.py#L480)\n",
    "\n",
    "#### Add more values to the context. ex: add a title\n",
    "```python\n",
    "\n",
    "class AppIndexView(SiteAppAdminMixin, generic.TemplateView):\n",
    "\n",
    "    template_name = 'admin/admin/app_index.html'\n",
    "\n",
    "    def get_context_data(self, **kwargs):\n",
    "\n",
    "        context = super(AppIndexView, self).get_context_data(**kwargs)\n",
    "\n",
    "        context['title'] = self.app_config.verbose_name\n",
    "        context['app_name'] = self.app_config.verbose_name\n",
    "        context['app_models_info'] = self.get_app_models_info()\n",
    "        context['reports_url'] = self.site_admin.get_url('reports', self.app_config.label)\n",
    "        context['statistics_url'] = self.site_admin.get_url('statistics', self.app_config.label)\n",
    "\n",
    "        return context\n",
    "\n",
    "    def get_app_models_info(self):\n",
    "\n",
    "        info = list()\n",
    "        for model in self.app_config.get_models():\n",
    "\n",
    "            if self.site_admin.is_registered_model(model):\n",
    "                info.append((\n",
    "                    force_text(model._meta.verbose_name),\n",
    "                    self.site_admin.get_url('changelist', model._meta),\n",
    "                    model._default_manager.count(),\n",
    "                ))\n",
    "\n",
    "        info.sort(key=lambda x: x[0].lower())\n",
    "\n",
    "        return info\n",
    "        \n",
    "```"
   ]
  },
  {
   "cell_type": "markdown",
   "metadata": {},
   "source": [
    "[source](https://github.com/setivolkylany/programmerHelper/blob/b37a28214a91a5d74043aae58339eea27c245200/apps/admin/views.py#L72)\n",
    "\n",
    "```python\n",
    "class PasswordChangeView(generic.TemplateView):\n",
    "\n",
    "    template_name = 'admin/admin/password_change.html'\n",
    "\n",
    "    def get_context_data(self, **kwargs):\n",
    "        context = super().get_context_data(**kwargs)\n",
    "\n",
    "        context.update(self.site_admin.each_context(self.request))\n",
    "\n",
    "        context['title'] = _('Password change')\n",
    "\n",
    "        return context\n",
    "        \n",
    "```"
   ]
  },
  {
   "cell_type": "markdown",
   "metadata": {},
   "source": [
    "[source](https://github.com/WISVCH/nwerc-eu/blob/c9b194629a31ab3c9a87e6854987b94d5e93f239/contestants/views.py#L108)\n",
    "\n",
    "```python\n",
    "\n",
    "class ExportBadgesView(TemplateView):\n",
    "    def get(self, request, *args, **kwargs):\n",
    "        from django.template import loader, Context\n",
    "\n",
    "        c = Context({'object_list': TeamPerson.objects.all()})\n",
    "        t = loader.get_template('contestants/badges.txt')\n",
    "\n",
    "        response = HttpResponse(mimetype='application/txt')\n",
    "        response['Content-Disposition'] = 'attachment; filename=badges.txt'\n",
    "\n",
    "        response.write(t.render(c).encode('utf-8'))\n",
    "\n",
    "        return response\n",
    "        \n",
    "```"
   ]
  }
 ],
 "metadata": {
  "anaconda-cloud": {},
  "kernelspec": {
   "display_name": "Python [default]",
   "language": "python",
   "name": "python3"
  },
  "language_info": {
   "codemirror_mode": {
    "name": "ipython",
    "version": 3
   },
   "file_extension": ".py",
   "mimetype": "text/x-python",
   "name": "python",
   "nbconvert_exporter": "python",
   "pygments_lexer": "ipython3",
   "version": "3.5.2"
  }
 },
 "nbformat": 4,
 "nbformat_minor": 1
}
