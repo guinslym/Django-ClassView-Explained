{
 "cells": [
  {
   "cell_type": "markdown",
   "metadata": {},
   "source": [
    "# UpdateView"
   ]
  },
  {
   "cell_type": "code",
   "execution_count": 4,
   "metadata": {
    "collapsed": false
   },
   "outputs": [
    {
     "data": {
      "image/jpeg": "[encoded data removed]",
      "text/html": [
       "\n",
       "        <iframe\n",
       "            width=\"600\"\n",
       "            height=\"400\"\n",
       "            src=\"https://www.youtube.com/embed/_PSeE5MJU54\"\n",
       "            frameborder=\"0\"\n",
       "            allowfullscreen\n",
       "        ></iframe>\n",
       "        "
      ],
      "text/plain": [
       "<IPython.lib.display.YouTubeVideo at 0x4b7b668>"
      ]
     },
     "execution_count": 4,
     "metadata": {},
     "output_type": "execute_result"
    }
   ],
   "source": [
    "from IPython.display import YouTubeVideo\n",
    "YouTubeVideo('_PSeE5MJU54',width=600, height=400)"
   ]
  },
  {
   "cell_type": "markdown",
   "metadata": {},
   "source": [
    "### Example"
   ]
  },
  {
   "cell_type": "markdown",
   "metadata": {},
   "source": [
    "[source](https://github.com/PresenceHealth/HealthViz/blob/9c9ad0a3ed921338585cb6f9c2048e966e4df701/geo/views.py#L266)\n",
    "\n",
    "\n",
    "```python\n",
    "\n",
    "\n",
    "class RegionCreate(CreateView):\n",
    "    \"\"\"View for creating a new region.\"\"\"\n",
    "    model = Region\n",
    "    fields = ['name', 'geographies', 'description', 'privacy']\n",
    "\n",
    "    def form_valid(self, form):\n",
    "        form.instance.added_by = self.request.user\n",
    "        return super(RegionCreate, self).form_valid(form)\n",
    "\n",
    "    @method_decorator(login_required)\n",
    "    def dispatch(self, *args, **kwargs):\n",
    "        return super(RegionCreate, self).dispatch(*args, **kwargs)\n",
    "\n",
    "\n",
    "class RegionUpdate(UpdateView):\n",
    "    model = Region\n",
    "    fields = ['name', 'geographies', 'description', 'privacy']\n",
    "    \n",
    "    @method_decorator(login_required)\n",
    "    def dispatch(self, *args, **kwargs):\n",
    "        object = super(RegionUpdate, self).get_object()\n",
    "        if object.added_by != self.request.user:\n",
    "            raise Http404('You do not have permission to edit this region.')\n",
    "        return super(RegionUpdate, self).dispatch(*args, **kwargs)\n",
    "        \n",
    "```"
   ]
  }
 ],
 "metadata": {
  "anaconda-cloud": {},
  "kernelspec": {
   "display_name": "Python [default]",
   "language": "python",
   "name": "python3"
  },
  "language_info": {
   "codemirror_mode": {
    "name": "ipython",
    "version": 3
   },
   "file_extension": ".py",
   "mimetype": "text/x-python",
   "name": "python",
   "nbconvert_exporter": "python",
   "pygments_lexer": "ipython3",
   "version": "3.5.2"
  }
 },
 "nbformat": 4,
 "nbformat_minor": 1
}
