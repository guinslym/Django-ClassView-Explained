{
 "cells": [
  {
   "cell_type": "markdown",
   "metadata": {},
   "source": [
    "# UpdateView"
   ]
  },
  {
   "cell_type": "markdown",
   "metadata": {},
   "source": [
    "### Example"
   ]
  },
  {
   "cell_type": "markdown",
   "metadata": {},
   "source": [
    "[source](https://github.com/suchov/into_to_dj/blob/5e27a8cc404604ae20a76d1451d2c3098617a4a5/readit/books/views.py)\n",
    "\n",
    "\n",
    "```python\n",
    "from django.db.models import Count\n",
    "from django.shortcuts import render\n",
    "from django.views.generic import View\n",
    "from .models import Book, Author\n",
    "\n",
    "class AuthorList(View):\n",
    "    def get(self, request):\n",
    "\n",
    "        authors = Author.objects.annotate(\n",
    "            published_books=Count('books')\n",
    "        ).filter(\n",
    "            published_books__gt=0\n",
    "        )\n",
    "\n",
    "        context = {\n",
    "            'authors': authors,\n",
    "        }\n",
    "        return render(request, \"authors.html\", context)\n",
    "        \n",
    "```"
   ]
  }
 ],
 "metadata": {
  "anaconda-cloud": {},
  "kernelspec": {
   "display_name": "Python [default]",
   "language": "python",
   "name": "python3"
  },
  "language_info": {
   "codemirror_mode": {
    "name": "ipython",
    "version": 3
   },
   "file_extension": ".py",
   "mimetype": "text/x-python",
   "name": "python",
   "nbconvert_exporter": "python",
   "pygments_lexer": "ipython3",
   "version": "3.5.2"
  }
 },
 "nbformat": 4,
 "nbformat_minor": 1
}
