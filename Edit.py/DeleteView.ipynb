{
 "cells": [
  {
   "cell_type": "markdown",
   "metadata": {},
   "source": [
    "# DeleteView"
   ]
  },
  {
   "cell_type": "markdown",
   "metadata": {},
   "source": [
    "### Example"
   ]
  },
  {
   "cell_type": "markdown",
   "metadata": {},
   "source": [
    "[source](https://github.com/LCOGT/valhalla/blob/c9abea8200e389dbabd3ff31e4ef17e1ae02bd74/valhalla/sciapplications/views.py#L135)\n",
    "\n",
    "\n",
    "```python\n",
    "class SciApplicationDeleteView(LoginRequiredMixin, DeleteView):\n",
    "    model = ScienceApplication\n",
    "    success_url = reverse_lazy('sciapplications:index')\n",
    "\n",
    "    def get_queryset(self):\n",
    "        return ScienceApplication.objects.filter(submitter=self.request.user, status=ScienceApplication.DRAFT)\n",
    "        \n",
    "```"
   ]
  },
  {
   "cell_type": "markdown",
   "metadata": {},
   "source": [
    "[source](https://github.com/PresenceHealth/HealthViz/blob/9c9ad0a3ed921338585cb6f9c2048e966e4df701/geo/views.py#L292)\n",
    "\n",
    "\n",
    "```python\n",
    "class RegionDelete(DeleteView):\n",
    "    model = Region\n",
    "    success_url = reverse_lazy('geo:region_list')\n",
    "\n",
    "    @method_decorator(login_required)\n",
    "    def dispatch(self, *args, **kwargs):\n",
    "        object = super(RegionDelete, self).get_object()\n",
    "        if object.added_by != self.request.user:\n",
    "            raise Http404('You do not have permission to edit this region.')\n",
    "        return super(RegionDelete, self).dispatch(*args, **kwargs)\n",
    "        \n",
    "```"
   ]
  }
 ],
 "metadata": {
  "anaconda-cloud": {},
  "kernelspec": {
   "display_name": "Python [default]",
   "language": "python",
   "name": "python3"
  },
  "language_info": {
   "codemirror_mode": {
    "name": "ipython",
    "version": 3
   },
   "file_extension": ".py",
   "mimetype": "text/x-python",
   "name": "python",
   "nbconvert_exporter": "python",
   "pygments_lexer": "ipython3",
   "version": "3.5.2"
  }
 },
 "nbformat": 4,
 "nbformat_minor": 1
}
