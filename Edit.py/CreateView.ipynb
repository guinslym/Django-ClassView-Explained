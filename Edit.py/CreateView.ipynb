{
 "cells": [
  {
   "cell_type": "markdown",
   "metadata": {},
   "source": [
    "# CreateView"
   ]
  },
  {
   "cell_type": "markdown",
   "metadata": {},
   "source": [
    "### Example"
   ]
  },
  {
   "cell_type": "markdown",
   "metadata": {},
   "source": [
    "[source](https://github.com/LCOGT/valhalla/blob/c9abea8200e389dbabd3ff31e4ef17e1ae02bd74/valhalla/sciapplications/views.py#L27)\n",
    "\n",
    "\n",
    "```python\n",
    "\n",
    "class SciApplicationCreateView(LoginRequiredMixin, CreateView):\n",
    "    template_name = 'sciapplications/create.html'\n",
    "    model = ScienceApplication\n",
    "\n",
    "    def get_form_class(self):\n",
    "        try:\n",
    "            return FORM_CLASSES[self.call.proposal_type]\n",
    "        except KeyError:\n",
    "            raise Http404\n",
    "\n",
    "    def get_success_url(self):\n",
    "        if self.object.status == ScienceApplication.DRAFT:\n",
    "            messages.add_message(self.request, messages.SUCCESS, _('Application created'))\n",
    "            return reverse('sciapplications:update', kwargs={'pk': self.object.id})\n",
    "        else:\n",
    "            messages.add_message(self.request, messages.SUCCESS, _('Application successfully submitted'))\n",
    "            return reverse('sciapplications:index')\n",
    "\n",
    "    def get_initial(self):\n",
    "        return {'call': self.call}\n",
    "\n",
    "    def get(self, request, *args, **kwargs):\n",
    "        self.object = None\n",
    "        self.call = get_object_or_404(Call, pk=kwargs['call'])\n",
    "        form = self.get_form()\n",
    "        timerequest_form = timerequest_formset()\n",
    "        return self.render_to_response(\n",
    "            self.get_context_data(form=form, timerequest_form=timerequest_form, call=self.call)\n",
    "        )\n",
    "\n",
    "    def post(self, request, *args, **kwargs):\n",
    "        self.object = None\n",
    "        self.call = get_object_or_404(Call, pk=kwargs['call'])\n",
    "        form = self.get_form()\n",
    "        form.instance.submitter = request.user\n",
    "        timerequest_form = timerequest_formset(self.request.POST)\n",
    "        if form.is_valid() and timerequest_form.is_valid():\n",
    "            return self.forms_valid({'main': form, 'tr': timerequest_form})\n",
    "        else:\n",
    "            return self.forms_invalid({'main': form, 'tr': timerequest_form})\n",
    "\n",
    "    def forms_valid(self, forms):\n",
    "        self.object = forms['main'].save()\n",
    "        forms['tr'].instance = self.object\n",
    "        forms['tr'].save()\n",
    "        return HttpResponseRedirect(self.get_success_url())\n",
    "\n",
    "    def forms_invalid(self, forms):\n",
    "        return self.render_to_response(\n",
    "            self.get_context_data(form=forms['main'], timerequest_form=forms['tr'], call=self.call)\n",
    "        )\n",
    "\n",
    "        \n",
    "```"
   ]
  }
 ],
 "metadata": {
  "anaconda-cloud": {},
  "kernelspec": {
   "display_name": "Python [default]",
   "language": "python",
   "name": "python3"
  },
  "language_info": {
   "codemirror_mode": {
    "name": "ipython",
    "version": 3
   },
   "file_extension": ".py",
   "mimetype": "text/x-python",
   "name": "python",
   "nbconvert_exporter": "python",
   "pygments_lexer": "ipython3",
   "version": "3.5.2"
  }
 },
 "nbformat": 4,
 "nbformat_minor": 1
}
