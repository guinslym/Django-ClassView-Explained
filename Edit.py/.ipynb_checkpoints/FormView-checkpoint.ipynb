{
 "cells": [
  {
   "cell_type": "markdown",
   "metadata": {},
   "source": [
    "# FormView"
   ]
  },
  {
   "cell_type": "markdown",
   "metadata": {},
   "source": [
    "### Example"
   ]
  },
  {
   "cell_type": "markdown",
   "metadata": {},
   "source": [
    "[source](https://github.com/codedbyjay/django-whatyouspend/blob/ea047e5b32bdf1a76403cec5be7d3718e2d9902f/whatyouspend/views.py#L83)\n",
    "\n",
    "\n",
    "```python\n",
    "class TransactionFormView(TransactionsViewMixin, FormView):\n",
    "    \"\"\" Allows customers to create expenses or income\n",
    "    \"\"\"\n",
    "\n",
    "    form_class = TransactionForm\n",
    "    template_name = \"whatyouspend/transaction_form.html\"\n",
    "    context_object_name = \"transaction\"\n",
    "\n",
    "    def get_queryset(self):\n",
    "        return Transaction.expenses.all()\n",
    "\n",
    "    def get_initial(self):\n",
    "        initial = {\n",
    "            \"transaction_type\": self.kwargs.get('transaction_type'),\n",
    "            \"date\" : datetime.today(),\n",
    "        }\n",
    "        print(\"Returning initial: %s\" % initial)\n",
    "        return initial\n",
    "\n",
    "    def get_context_data(self, **kwargs):\n",
    "        ctx = super(TransactionFormView, self).get_context_data(**kwargs)\n",
    "        ctx[\"edit\"] = True if \"pk\" in self.kwargs else False\n",
    "        if \"pk\" in self.kwargs:\n",
    "            pk = self.kwargs.get(\"pk\")\n",
    "            ctx[\"transaction\"] = Transaction.objects.get(pk=pk)\n",
    "        return ctx\n",
    "\n",
    "    def form_valid(self, form):\n",
    "        transaction = form.save()\n",
    "        cleaned_data = form.cleaned_data\n",
    "        transaction_type = cleaned_data.get(\"transaction_type\")\n",
    "        return redirect(\n",
    "            \"whatyouspend:%s-detail\" % transaction_type,\n",
    "            pk=transaction.pk)\n",
    "        \n",
    "```"
   ]
  },
  {
   "cell_type": "code",
   "execution_count": null,
   "metadata": {
    "collapsed": true
   },
   "outputs": [],
   "source": []
  }
 ],
 "metadata": {
  "anaconda-cloud": {},
  "kernelspec": {
   "display_name": "Python [default]",
   "language": "python",
   "name": "python3"
  },
  "language_info": {
   "codemirror_mode": {
    "name": "ipython",
    "version": 3
   },
   "file_extension": ".py",
   "mimetype": "text/x-python",
   "name": "python",
   "nbconvert_exporter": "python",
   "pygments_lexer": "ipython3",
   "version": "3.5.2"
  }
 },
 "nbformat": 4,
 "nbformat_minor": 1
}
