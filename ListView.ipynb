{
 "cells": [
  {
   "cell_type": "markdown",
   "metadata": {},
   "source": [
    "# ListView"
   ]
  },
  {
   "cell_type": "code",
   "execution_count": 3,
   "metadata": {
    "collapsed": false
   },
   "outputs": [
    {
     "data": {
      "image/jpeg": "[encoded data removed]",
      "text/html": [
       "\n",
       "        <iframe\n",
       "            width=\"800\"\n",
       "            height=\"500\"\n",
       "            src=\"https://www.youtube.com/embed/8kjI5Sk9n44\"\n",
       "            frameborder=\"0\"\n",
       "            allowfullscreen\n",
       "        ></iframe>\n",
       "        "
      ],
      "text/plain": [
       "<IPython.lib.display.YouTubeVideo at 0x4e0c668>"
      ]
     },
     "execution_count": 3,
     "metadata": {},
     "output_type": "execute_result"
    }
   ],
   "source": [
    "from IPython.display import YouTubeVideo\n",
    "YouTubeVideo('8kjI5Sk9n44',width=800, height=500)"
   ]
  },
  {
   "cell_type": "markdown",
   "metadata": {},
   "source": [
    "[full django ListView source](https://gist.github.com/guinslym/248eaddac9c6d85881145dc0d91d33d5)\n",
    "\n",
    "\n",
    "```python\n",
    "# exerpt from list.py from django\n",
    "class ListView(MultipleObjectTemplateResponseMixin, BaseListView):\n",
    "    \"\"\"\n",
    "    Render some list of objects, set by `self.model` or `self.queryset`.\n",
    "    `self.queryset` can actually be any iterable of items, not just a queryset.\n",
    "    \"\"\"\n",
    "        \n",
    "```"
   ]
  },
  {
   "cell_type": "markdown",
   "metadata": {},
   "source": [
    "<hr style=\"border:1px solid black\"/>"
   ]
  },
  {
   "cell_type": "markdown",
   "metadata": {},
   "source": [
    "### Example"
   ]
  },
  {
   "cell_type": "markdown",
   "metadata": {},
   "source": [
    "[source](https://github.com/neeraj12121/blog-django/blob/33fcedecb25d339ea30927f7acd434a0f97105f3/app/views.py#L5)\n",
    "\n",
    "```python\n",
    "\n",
    "from django.views import generic\n",
    "class BlogIndex(generic.ListView):\n",
    "    queryset = models.Blog.objects.published()\n",
    "    template_name = \"home.html\"\n",
    "    paginate_by = 2\n",
    "```   "
   ]
  },
  {
   "cell_type": "markdown",
   "metadata": {},
   "source": [
    "[source](https://github.com/CoinLQ/SegmentationCheck/blob/c4da2f34d9c9867a0921fa4e413efdfc4d731332/characters/views.py#L22)\n",
    "\n",
    "```python\n",
    "from django.views import generic\n",
    "\n",
    "class NewIndex(ListView):\n",
    "    model = CharacterStatistics\n",
    "    template_name = 'characters/characterstatistics_list.html'\n",
    "    def get_queryset(self):\n",
    "        return CharacterStatistics.objects.all().order_by('-total_cnt','char')\n",
    "```   "
   ]
  },
  {
   "cell_type": "markdown",
   "metadata": {},
   "source": [
    "[source](https://github.com/eugene-batalov/buddakrut/blob/e423e63227ef716bac45845c9256dbe9fe8f4c83/ongames/views.py#L15)\n",
    "\n",
    "\n",
    "```python\n",
    "class IndexView(generic.ListView):\n",
    "    template_name = 'ongames/index.html'\n",
    "    context_object_name = 'latest_users_list'\n",
    "\n",
    "    def get_queryset(self):\n",
    "        \"\"\"Return the last five users.\"\"\"\n",
    "        return Users.objects.order_by('-idusers')[:5]\n",
    "```   "
   ]
  },
  {
   "cell_type": "markdown",
   "metadata": {},
   "source": [
    "[source](https://github.com/importchen/codeflitting/blob/69d3d1ff5d42577bd832a4bb62ccf82508a9711d/blog/views.py#L11)\n",
    "\n",
    "```python\n",
    "from django.views.generic.list import ListView\n",
    "\n",
    "class IndexView(ListView):\n",
    "    template_name = \"blog/index.html\"\n",
    "    context_object_name = \"article_list\"\n",
    "\n",
    "    def get_queryset(self):\n",
    "        article_list = Article.objects.filter(status='p')\n",
    "        for article in article_list:\n",
    "            # article.body = markdown2.markdown(article.body, extras=['fenced-code-blocks',\n",
    "            #                                                        'tables'], )\n",
    "            article.title = article.title.replace('-', ' ')\n",
    "        return article_list\n",
    "\n",
    "    def get_context_data(self, **kwargs):\n",
    "        kwargs['category_list'] = Category.objects.all().order_by('name')\n",
    "        kwargs['tag_list'] = Tag.objects.all().order_by('name')\n",
    "        kwargs['recent'] = Article.objects.all().order_by('last_modified_time')[:6]\n",
    "        kwargs['home'] = 'selected active current'\n",
    "        return super(IndexView, self).get_context_data(**kwargs)\n",
    "\n",
    "```   "
   ]
  },
  {
   "cell_type": "markdown",
   "metadata": {},
   "source": [
    "[source](https://github.com/parksandwildlife/prs/blob/3436990816a681ca50dc9b22273481441f652bca/prs2/referral/views.py#L49)\n",
    "\n",
    "```python\n",
    "class SiteHome(LoginRequiredMixin, ListView):\n",
    "    \"\"\"Site home page view. Returns an object list of tasks (ongoing or stopped).\n",
    "    \"\"\"\n",
    "    stopped_tasks = False\n",
    "    printable = False\n",
    "\n",
    "    def get_queryset(self):\n",
    "        qs = Task.objects.current().filter(assigned_user=self.request.user)\n",
    "        if self.stopped_tasks:\n",
    "            qs = qs.filter(state__name='Stopped').order_by('stop_date')\n",
    "        else:\n",
    "            qs = qs.filter(state__is_ongoing=True)\n",
    "        return qs\n",
    "\n",
    "    def get_template_names(self):\n",
    "        if 'print' in self.request.GET or self.printable:\n",
    "            return 'site_home_print.html'\n",
    "        else:\n",
    "            return'site_home.html'\n",
    "\n",
    "    def get_context_data(self, **kwargs):\n",
    "        context = super(SiteHome, self).get_context_data(**kwargs)\n",
    "        context['stopped_tasks'] = self.stopped_tasks\n",
    "        context['headers'] = copy(Task.headers_site_home)\n",
    "        if not self.stopped_tasks:\n",
    "            context['stopped_tasks_exist'] = Task.objects.current().filter(\n",
    "                assigned_user=self.request.user, state__name='Stopped').exists()\n",
    "        # Printable view only: pop the last element from 'headers'\n",
    "        if 'print' in self.request.GET or self.printable:\n",
    "            context['headers'].pop()\n",
    "        context['page_title'] = settings.APPLICATION_ACRONYM\n",
    "        context['breadcrumb_trail'] = breadcrumbs_li([(None, 'Home')])\n",
    "        return context\n",
    "```   "
   ]
  },
  {
   "cell_type": "markdown",
   "metadata": {},
   "source": [
    "[source](https://github.com/Fabitosoft/odecopack/blob/e344e26bf20d98b20f2b6315c861f7ad0a459b01/cotizaciones/views.py#L90)\n",
    "\n",
    "```python\n",
    "from django.db.models import Q\n",
    "\n",
    "class CotizacionesListView(ListView):\n",
    "    model = Cotizacion\n",
    "\n",
    "    def get_queryset(self):\n",
    "        query = self.request.GET.get(\"buscado\")\n",
    "        if not query:\n",
    "            query = \"\"\n",
    "        print(query)\n",
    "        qs = Cotizacion.objects.filter(\n",
    "            (Q(usuario=self.request.user) &\n",
    "            ~Q(estado=\"INI\")) &\n",
    "            (\n",
    "                Q(nombres_contacto__icontains=query) |\n",
    "                Q(nro_cotizacion__icontains=query) |\n",
    "                Q(ciudad__icontains=query) |\n",
    "                Q(razon_social__icontains=query) |\n",
    "                Q(items__item__descripcion_estandar__icontains=query) |\n",
    "                Q(items__item__referencia__icontains=query)\n",
    "            )\n",
    "        ).order_by('-total').distinct()\n",
    "        return qs\n",
    "\n",
    "    def get_context_data(self, **kwargs):\n",
    "        context = super().get_context_data(**kwargs)\n",
    "        context[\"form_busqueda\"] = BusquedaCotiForm(self.request.GET or None)\n",
    "        return context\n",
    "```   "
   ]
  },
  {
   "cell_type": "code",
   "execution_count": null,
   "metadata": {
    "collapsed": true
   },
   "outputs": [],
   "source": []
  }
 ],
 "metadata": {
  "anaconda-cloud": {},
  "kernelspec": {
   "display_name": "Python [default]",
   "language": "python",
   "name": "python3"
  },
  "language_info": {
   "codemirror_mode": {
    "name": "ipython",
    "version": 3
   },
   "file_extension": ".py",
   "mimetype": "text/x-python",
   "name": "python",
   "nbconvert_exporter": "python",
   "pygments_lexer": "ipython3",
   "version": "3.5.2"
  }
 },
 "nbformat": 4,
 "nbformat_minor": 1
}
